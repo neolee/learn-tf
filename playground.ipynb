{
 "cells": [
  {
   "cell_type": "code",
   "execution_count": 1,
   "metadata": {},
   "outputs": [],
   "source": [
    "import tensorflow as tf\n",
    "from tensorflow import keras"
   ]
  },
  {
   "cell_type": "code",
   "execution_count": 2,
   "metadata": {},
   "outputs": [
    {
     "name": "stdout",
     "output_type": "stream",
     "text": [
      "TensorFlow version: 2.1.0\n",
      "GPU available\n",
      "\n",
      "Number of available CPU: 1\n",
      "Number of available GPU: 1\n"
     ]
    }
   ],
   "source": [
    "cpus = tf.config.list_physical_devices('CPU')\n",
    "gpus = tf.config.list_physical_devices('GPU')\n",
    "\n",
    "print('TensorFlow version:', tf.__version__)\n",
    "if gpus and len(gpus) > 0:\n",
    "    print('GPU available')\n",
    "print()\n",
    "\n",
    "print('Number of available CPU:', len(cpus))\n",
    "print('Number of available GPU:', len(gpus))"
   ]
  },
  {
   "cell_type": "code",
   "execution_count": null,
   "metadata": {},
   "outputs": [],
   "source": []
  }
 ],
 "metadata": {
  "kernelspec": {
   "display_name": "Python 3 (TensorFlow)",
   "language": "python",
   "name": "python3tf"
  },
  "language_info": {
   "codemirror_mode": {
    "name": "ipython",
    "version": 3
   },
   "file_extension": ".py",
   "mimetype": "text/x-python",
   "name": "python",
   "nbconvert_exporter": "python",
   "pygments_lexer": "ipython3",
   "version": "3.6.9"
  }
 },
 "nbformat": 4,
 "nbformat_minor": 4
}
